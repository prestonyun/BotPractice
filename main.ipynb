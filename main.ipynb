{
 "cells": [
  {
   "cell_type": "code",
   "execution_count": 1,
   "metadata": {},
   "outputs": [
    {
     "name": "stdout",
     "output_type": "stream",
     "text": [
      "tensor([[0.1135, 0.1111, 0.6607],\n",
      "        [0.2625, 0.6319, 0.7220],\n",
      "        [0.8700, 0.9259, 0.9498],\n",
      "        [0.2917, 0.6212, 0.7852],\n",
      "        [0.8186, 0.7112, 0.6154]])\n",
      "<class 'dict'>\n"
     ]
    }
   ],
   "source": [
    "import torch\n",
    "import cv2\n",
    "\n",
    "# Create a tensor\n",
    "x = torch.rand(5, 3)\n",
    "print(x)\n",
    "torch.cuda.is_available()\n",
    "\n",
    "x = {\n",
    "'World Location':'WorldPoint(x=3235, y=3217, plane=0)',\n",
    "'Hitpoints':99,'Prayer Points':99, 'Run Energy':10000}\n",
    "\n",
    "print(type(x))"
   ]
  },
  {
   "cell_type": "code",
   "execution_count": null,
   "metadata": {},
   "outputs": [],
   "source": [
    "import asyncio\n",
    "import websockets\n",
    "import nest_asyncio\n",
    "\n",
    "import torch\n",
    "import sys\n",
    "\n",
    "nest_asyncio.apply()\n",
    "\n",
    "async def echo(websocket):\n",
    "    async for message in websocket:\n",
    "        await websocket.send(message)\n",
    "        print('\\r' + message, end='')\n",
    "\n",
    "async def main():\n",
    "    async with websockets.serve(echo, \"localhost\", 8765):\n",
    "        await asyncio.Future()  # run forever\n",
    "\n",
    "asyncio.run(main())"
   ]
  },
  {
   "cell_type": "code",
   "execution_count": null,
   "metadata": {},
   "outputs": [],
   "source": [
    "import torch\n",
    "\n",
    "class HolographicEmbeddingLayer(torch.nn.Module):\n",
    "    def __init__(self, vocab_size, embedding_dim):\n",
    "        super(HolographicEmbeddingLayer, self).__init__()\n",
    "        self.vocab_size = vocab_size\n",
    "        self.embedding_dim = embedding_dim\n",
    "        self.weights = torch.nn.Parameter(torch.randn(vocab_size, embedding_dim))\n",
    "\n",
    "    def forward(self, input_indices):\n",
    "        input_embeddings = self.weights[input_indices]\n",
    "        norm = torch.sqrt(torch.sum(input_embeddings ** 2, dim=1, keepdim=True))\n",
    "        input_embeddings = input_embeddings / norm\n",
    "        holo_embedding = torch.sum(input_embeddings, dim=0, keepdim=True)\n",
    "\n",
    "        return holo_embedding"
   ]
  }
 ],
 "metadata": {
  "kernelspec": {
   "display_name": "Python 3",
   "language": "python",
   "name": "python3"
  },
  "language_info": {
   "codemirror_mode": {
    "name": "ipython",
    "version": 3
   },
   "file_extension": ".py",
   "mimetype": "text/x-python",
   "name": "python",
   "nbconvert_exporter": "python",
   "pygments_lexer": "ipython3",
   "version": "3.9.16"
  },
  "orig_nbformat": 4,
  "vscode": {
   "interpreter": {
    "hash": "568796e68db2d3bcce1976522e5a3d9a0e640f5653938c9a4279f55c80f6d8fb"
   }
  }
 },
 "nbformat": 4,
 "nbformat_minor": 2
}
