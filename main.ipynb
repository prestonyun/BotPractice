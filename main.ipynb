{
 "cells": [
  {
   "cell_type": "code",
   "execution_count": null,
   "metadata": {},
   "outputs": [],
   "source": [
    "import torch\n",
    "\n",
    "# Create a tensor\n",
    "x = torch.rand(5, 3)\n",
    "print(x)\n",
    "torch.cuda.is_available()\n",
    "\n",
    "print(type(x))"
   ]
  },
  {
   "cell_type": "code",
   "execution_count": 1,
   "metadata": {},
   "outputs": [
    {
     "name": "stdout",
     "output_type": "stream",
     "text": [
      "{\"health\":99,\"location\":\"3235, 3213\",\"energy\":10000}"
     ]
    },
    {
     "name": "stderr",
     "output_type": "stream",
     "text": [
      "connection handler failed\n",
      "Traceback (most recent call last):\n",
      "  File \"e:\\BotDev\\.conda\\lib\\site-packages\\websockets\\legacy\\protocol.py\", line 968, in transfer_data\n",
      "    message = await self.read_message()\n",
      "  File \"e:\\BotDev\\.conda\\lib\\site-packages\\websockets\\legacy\\protocol.py\", line 1038, in read_message\n",
      "    frame = await self.read_data_frame(max_size=self.max_size)\n",
      "  File \"e:\\BotDev\\.conda\\lib\\site-packages\\websockets\\legacy\\protocol.py\", line 1113, in read_data_frame\n",
      "    frame = await self.read_frame(max_size)\n",
      "  File \"e:\\BotDev\\.conda\\lib\\site-packages\\websockets\\legacy\\protocol.py\", line 1170, in read_frame\n",
      "    frame = await Frame.read(\n",
      "  File \"e:\\BotDev\\.conda\\lib\\site-packages\\websockets\\legacy\\framing.py\", line 69, in read\n",
      "    data = await reader(2)\n",
      "  File \"e:\\BotDev\\.conda\\lib\\asyncio\\streams.py\", line 723, in readexactly\n",
      "    await self._wait_for_data('readexactly')\n",
      "  File \"e:\\BotDev\\.conda\\lib\\asyncio\\streams.py\", line 517, in _wait_for_data\n",
      "    await self._waiter\n",
      "  File \"e:\\BotDev\\.conda\\lib\\asyncio\\futures.py\", line 284, in __await__\n",
      "    yield self  # This tells Task to wait for completion.\n",
      "  File \"e:\\BotDev\\.conda\\lib\\asyncio\\tasks.py\", line 328, in __wakeup\n",
      "    future.result()\n",
      "  File \"e:\\BotDev\\.conda\\lib\\asyncio\\futures.py\", line 201, in result\n",
      "    raise self._exception\n",
      "  File \"e:\\BotDev\\.conda\\lib\\asyncio\\selector_events.py\", line 854, in _read_ready__data_received\n",
      "    data = self._sock.recv(self.max_size)\n",
      "ConnectionResetError: [WinError 10054] An existing connection was forcibly closed by the remote host\n",
      "\n",
      "The above exception was the direct cause of the following exception:\n",
      "\n",
      "Traceback (most recent call last):\n",
      "  File \"e:\\BotDev\\.conda\\lib\\site-packages\\websockets\\legacy\\server.py\", line 236, in handler\n",
      "    await self.ws_handler(self)\n",
      "  File \"C:\\Users\\prest\\AppData\\Local\\Temp\\ipykernel_16160\\3337002954.py\", line 8, in echo\n",
      "    async for message in websocket:\n",
      "  File \"e:\\BotDev\\.conda\\lib\\site-packages\\websockets\\legacy\\protocol.py\", line 497, in __aiter__\n",
      "    yield await self.recv()\n",
      "  File \"e:\\BotDev\\.conda\\lib\\site-packages\\websockets\\legacy\\protocol.py\", line 568, in recv\n",
      "    await self.ensure_open()\n",
      "  File \"e:\\BotDev\\.conda\\lib\\site-packages\\websockets\\legacy\\protocol.py\", line 944, in ensure_open\n",
      "    raise self.connection_closed_exc()\n",
      "websockets.exceptions.ConnectionClosedError: no close frame received or sent\n"
     ]
    }
   ],
   "source": [
    "import asyncio\n",
    "import websockets\n",
    "import nest_asyncio\n",
    "import ast\n",
    "\n",
    "nest_asyncio.apply()\n",
    "\n",
    "async def echo(websocket):\n",
    "    async for message in websocket:\n",
    "        await websocket.send(message)\n",
    "        print('\\r' + message, end='')\n",
    "\n",
    "async def main():\n",
    "    async with websockets.serve(echo, \"localhost\", 8765):\n",
    "        await asyncio.Future()  # run forever\n",
    "\n",
    "asyncio.run(main())"
   ]
  }
 ],
 "metadata": {
  "kernelspec": {
   "display_name": "Python 3",
   "language": "python",
   "name": "python3"
  },
  "language_info": {
   "codemirror_mode": {
    "name": "ipython",
    "version": 3
   },
   "file_extension": ".py",
   "mimetype": "text/x-python",
   "name": "python",
   "nbconvert_exporter": "python",
   "pygments_lexer": "ipython3",
   "version": "3.9.16"
  },
  "orig_nbformat": 4,
  "vscode": {
   "interpreter": {
    "hash": "568796e68db2d3bcce1976522e5a3d9a0e640f5653938c9a4279f55c80f6d8fb"
   }
  }
 },
 "nbformat": 4,
 "nbformat_minor": 2
}
